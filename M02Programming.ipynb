{
 "cells": [
  {
   "cell_type": "markdown",
   "id": "1cf83025-da10-4707-bd2c-63d16113ab9f",
   "metadata": {},
   "source": [
    "# 4.1 Choose a number between 1 and 10 and assign it to the variable secret. Then, select another number between 1 and 10 and assign it to the variable guess. Next, write the conditional tests (if, else, and elif) to print the string 'too low' if guess is less than secret, 'too high' if greater than secret, and 'just right' if equal to secret."
   ]
  },
  {
   "cell_type": "code",
   "execution_count": 3,
   "id": "057d6781-f490-436a-9631-247dac007cf6",
   "metadata": {},
   "outputs": [
    {
     "name": "stdout",
     "output_type": "stream",
     "text": [
      "too low\n"
     ]
    }
   ],
   "source": [
    "\n",
    "secret = 10;\n",
    "guess = 1;\n",
    "\n",
    "if (guess < secret):\n",
    "    print(\"too low\")\n",
    "if (guess > secret):\n",
    "    print(\"too high\")\n",
    "if (guess == secret):\n",
    "    print(\"just right\")\n",
    "    \n",
    "\n",
    "\n",
    "\n"
   ]
  },
  {
   "cell_type": "code",
   "execution_count": 4,
   "id": "50cd7745-e7b4-4f5e-8024-234608710009",
   "metadata": {},
   "outputs": [
    {
     "name": "stdout",
     "output_type": "stream",
     "text": [
      "too high\n"
     ]
    }
   ],
   "source": [
    "\n",
    "secret = 1;\n",
    "guess = 10;\n",
    "\n",
    "if (guess < secret):\n",
    "    print(\"too low\")\n",
    "if (guess > secret):\n",
    "    print(\"too high\")\n",
    "if (guess == secret):\n",
    "    print(\"just right\")\n",
    "    \n",
    "\n",
    "\n",
    "\n"
   ]
  },
  {
   "cell_type": "code",
   "execution_count": 5,
   "id": "d43e91e0-a6e3-432d-b71a-3b6cd6701c01",
   "metadata": {},
   "outputs": [
    {
     "name": "stdout",
     "output_type": "stream",
     "text": [
      "just right\n"
     ]
    }
   ],
   "source": [
    "\n",
    "secret = 5;\n",
    "guess = 5;\n",
    "\n",
    "if (guess < secret):\n",
    "    print(\"too low\")\n",
    "if (guess > secret):\n",
    "    print(\"too high\")\n",
    "if (guess == secret):\n",
    "    print(\"just right\")\n",
    "    \n",
    "\n",
    "\n",
    "\n"
   ]
  },
  {
   "cell_type": "markdown",
   "id": "3c75c9c8-3367-4bf8-bfba-b55c79bb78b1",
   "metadata": {},
   "source": [
    "# 4.2 Assign True or False to the variables small and green. Write some if/else statements to print which of these matches those choices: cherry, pea, watermelon, pumpkin."
   ]
  },
  {
   "cell_type": "code",
   "execution_count": 7,
   "id": "60819b51-edf3-49ce-9005-abf649b58cc6",
   "metadata": {},
   "outputs": [
    {
     "name": "stdout",
     "output_type": "stream",
     "text": [
      "watermelon\n"
     ]
    }
   ],
   "source": [
    "small = False\n",
    "green = True\n",
    "\n",
    "\n",
    "if small:\n",
    "    if green:\n",
    "        print(\"pea\")\n",
    "    else:\n",
    "        print(\"cherry\")\n",
    "else:\n",
    "    if green:\n",
    "        print(\"watermelon\")\n",
    "    else:\n",
    "        print(\"pumpkin\")"
   ]
  },
  {
   "cell_type": "code",
   "execution_count": 8,
   "id": "e0747e11-2117-418a-8218-51c3c897d45d",
   "metadata": {},
   "outputs": [
    {
     "name": "stdout",
     "output_type": "stream",
     "text": [
      "pea\n"
     ]
    }
   ],
   "source": [
    "small = True\n",
    "green = True\n",
    "\n",
    "\n",
    "if small:\n",
    "    if green:\n",
    "        print(\"pea\")\n",
    "    else:\n",
    "        print(\"cherry\")\n",
    "else:\n",
    "    if green:\n",
    "        print(\"watermelon\")\n",
    "    else:\n",
    "        print(\"pumpkin\")"
   ]
  },
  {
   "cell_type": "code",
   "execution_count": 9,
   "id": "3c9cc6e7-c87f-4979-acc3-cfa9d0132f37",
   "metadata": {},
   "outputs": [
    {
     "name": "stdout",
     "output_type": "stream",
     "text": [
      "pumpkin\n"
     ]
    }
   ],
   "source": [
    "small = False\n",
    "green = False\n",
    "\n",
    "\n",
    "if small:\n",
    "    if green:\n",
    "        print(\"pea\")\n",
    "    else:\n",
    "        print(\"cherry\")\n",
    "else:\n",
    "    if green:\n",
    "        print(\"watermelon\")\n",
    "    else:\n",
    "        print(\"pumpkin\")"
   ]
  },
  {
   "cell_type": "code",
   "execution_count": 10,
   "id": "c15620b1-3e12-46b3-8c16-13ade8424a16",
   "metadata": {},
   "outputs": [
    {
     "name": "stdout",
     "output_type": "stream",
     "text": [
      "cherry\n"
     ]
    }
   ],
   "source": [
    "small = True\n",
    "green = False\n",
    "\n",
    "\n",
    "if small:\n",
    "    if green:\n",
    "        print(\"pea\")\n",
    "    else:\n",
    "        print(\"cherry\")\n",
    "else:\n",
    "    if green:\n",
    "        print(\"watermelon\")\n",
    "    else:\n",
    "        print(\"pumpkin\")"
   ]
  },
  {
   "cell_type": "markdown",
   "id": "0a9c23e1-854f-445a-a7a3-58e889cc67c4",
   "metadata": {},
   "source": [
    "# 6.1 Use a for loop to print the values of the list [3, 2, 1, 0]."
   ]
  },
  {
   "cell_type": "code",
   "execution_count": 14,
   "id": "842f4b58-8cbb-4644-9ffe-f670a81f41fe",
   "metadata": {},
   "outputs": [
    {
     "name": "stdout",
     "output_type": "stream",
     "text": [
      "0\n",
      "1\n",
      "2\n",
      "3\n"
     ]
    }
   ],
   "source": [
    "list = [3,2,1,0]\n",
    "\n",
    "for i in list:\n",
    "    print(list[i])"
   ]
  },
  {
   "cell_type": "markdown",
   "id": "70eb95a3-888e-4297-bf4e-bce0ecb557ad",
   "metadata": {},
   "source": [
    "# 6.2 Assign the value 7 to the variable guess_me, and the value 1 to the variable number. Write a while loop that compares number with guess_me. Print 'too low' if number is less than guess me. If number equals guess_me, print 'found it!' and then exit the loop. If number is greater than guess_me, print 'oops' and then exit the loop. Increment number at the end of the loop._m"
   ]
  },
  {
   "cell_type": "code",
   "execution_count": 1,
   "id": "6d24636c-8d00-4d2a-8b22-a024fdd9e15a",
   "metadata": {},
   "outputs": [
    {
     "name": "stdout",
     "output_type": "stream",
     "text": [
      "too low\n",
      "too low\n",
      "too low\n",
      "too low\n",
      "too low\n",
      "too low\n"
     ]
    }
   ],
   "source": [
    "guess_me = 7\n",
    "\n",
    "number = 1\n",
    "\n",
    "while (number < guess_me):\n",
    "    if (number < guess_me):\n",
    "        print(\"too low\")\n",
    "    if(number > guess_me):\n",
    "        print(\"oops\")\n",
    "    if(number == guess_me):\n",
    "        print(\"found it!\")\n",
    "    number += 1\n"
   ]
  },
  {
   "cell_type": "markdown",
   "id": "63639e8f-4de0-4665-932b-0dd9ce718162",
   "metadata": {},
   "source": [
    "# 6.3 Assign the value 5 to the variable guess_me. Use a for loop to iterate a variable called number over range(10). If number is less than guess_me, print 'too low'. If it equals guess_me, print found it! and then break out of the for loop. If number is greater than guess_me, print 'oops' and then exit the loop."
   ]
  },
  {
   "cell_type": "code",
   "execution_count": 9,
   "id": "1351168b-839b-4a27-8e51-61babb35543a",
   "metadata": {},
   "outputs": [
    {
     "name": "stdout",
     "output_type": "stream",
     "text": [
      "too low\n",
      "too low\n",
      "too low\n",
      "too low\n",
      "too low\n",
      "found it!\n",
      "oops\n",
      "oops\n",
      "oops\n",
      "oops\n"
     ]
    }
   ],
   "source": [
    "guess_me = 5\n",
    "\n",
    "for number in range(10):\n",
    "    if (number < guess_me):\n",
    "        print(\"too low\")\n",
    "    if(number == guess_me):\n",
    "        print(\"found it!\")\n",
    "    if(number > guess_me):\n",
    "        print(\"oops\")\n"
   ]
  },
  {
   "cell_type": "code",
   "execution_count": null,
   "id": "78cb4314-041e-41c7-9cf1-77cca8adbd1c",
   "metadata": {},
   "outputs": [],
   "source": []
  }
 ],
 "metadata": {
  "kernelspec": {
   "display_name": "Python 3 (ipykernel)",
   "language": "python",
   "name": "python3"
  },
  "language_info": {
   "codemirror_mode": {
    "name": "ipython",
    "version": 3
   },
   "file_extension": ".py",
   "mimetype": "text/x-python",
   "name": "python",
   "nbconvert_exporter": "python",
   "pygments_lexer": "ipython3",
   "version": "3.11.7"
  }
 },
 "nbformat": 4,
 "nbformat_minor": 5
}
